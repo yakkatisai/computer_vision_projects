{
 "cells": [
  {
   "cell_type": "code",
   "execution_count": 1,
   "id": "00480019",
   "metadata": {},
   "outputs": [
    {
     "name": "stdout",
     "output_type": "stream",
     "text": [
      "Training data shape: (800, 128, 128, 3)\n",
      "Testing data shape: (200, 128, 128, 3)\n"
     ]
    }
   ],
   "source": [
    "import os\n",
    "import cv2\n",
    "import numpy as np\n",
    "from sklearn.model_selection import train_test_split\n",
    "import tensorflow as tf\n",
    "from tensorflow.keras import datasets,layers,models\n",
    "import matplotlib.pyplot as plt\n",
    "import numpy as np\n",
    "\n",
    "# Path to the directory containing your \"cat\" and \"dog\" folders\n",
    "base_dir = \"./leaf\"\n",
    "\n",
    "# List of subdirectories (cat and dog)\n",
    "subdirectories = ['green_leaf','yellow_leaf']\n",
    "\n",
    "# Load and preprocess images\n",
    "images = []\n",
    "labels = []\n",
    "\n",
    "for label, subdirectory in enumerate(subdirectories):\n",
    "    subdirectory_path = os.path.join(base_dir, subdirectory)\n",
    "    \n",
    "    if not os.path.exists(subdirectory_path):\n",
    "        print(f\"Subdirectory '{subdirectory}' not found.\")\n",
    "        continue\n",
    "    \n",
    "    image_files = os.listdir(subdirectory_path)\n",
    "    \n",
    "    for file_name in image_files:\n",
    "        if file_name.endswith(\".jpg\") or file_name.endswith(\".png\"):\n",
    "            image_path = os.path.join(subdirectory_path, file_name)\n",
    "            img = cv2.imread(image_path)\n",
    "            img = cv2.resize(img, (128, 128))  # Resize the images to a common size\n",
    "            \n",
    "            images.append(img)\n",
    "            labels.append(label)\n",
    "\n",
    "# Convert lists to NumPy arrays\n",
    "X = np.array(images)\n",
    "y = np.array(labels)\n",
    "\n",
    "#Split the data into training and testing sets\n",
    "X_train, X_test, y_train, y_test = train_test_split(X, y, test_size=0.2, random_state=42)\n",
    "#print(X_test[].shape)\n",
    "# Display the shape of the training and testing sets\n",
    "print(\"Training data shape:\", X_train.shape)\n",
    "print(\"Testing data shape:\", X_test.shape)\n"
   ]
  },
  {
   "cell_type": "code",
   "execution_count": 2,
   "id": "c2c6c56c",
   "metadata": {},
   "outputs": [
    {
     "data": {
      "text/plain": [
       "array([0, 1, 1, 1, 1, 1, 0, 1, 0, 1, 0, 0, 1, 1, 1, 0, 1, 0, 1, 1, 0, 1,\n",
       "       1, 0, 1, 0, 1, 0, 1, 1, 0, 1, 0, 1, 0, 0, 0, 1, 0, 0, 0, 0, 1, 1,\n",
       "       0, 0, 0, 0, 0, 0, 0, 1, 1, 1, 0, 0, 1, 1, 1, 0, 1, 0, 0, 0, 0, 1,\n",
       "       1, 0, 1, 0, 0, 0, 1, 0, 1, 0, 0, 1, 0, 1, 1, 1, 0, 0, 0, 1, 0, 0,\n",
       "       0, 1, 1, 1, 1, 0, 0, 0, 1, 0, 0, 0, 1, 0, 0, 0, 1, 1, 0, 1, 1, 1,\n",
       "       1, 1, 1, 1, 0, 0, 0, 0, 1, 0, 0, 0, 0, 1, 1, 1, 0, 0, 1, 0, 1, 0,\n",
       "       1, 1, 0, 0, 1, 1, 1, 1, 0, 0, 0, 0, 0, 0, 1, 1, 0, 1, 0, 0, 1, 0,\n",
       "       0, 0, 0, 0, 0, 0, 0, 1, 0, 0, 0, 0, 1, 0, 0, 1, 0, 1, 0, 0, 0, 1,\n",
       "       0, 0, 1, 1, 0, 0, 1, 0, 0, 1, 1, 0, 1, 1, 0, 0, 1, 0, 1, 0, 0, 0,\n",
       "       1, 1, 0, 0, 1, 1, 1, 1, 1, 0, 0, 1, 1, 1, 1, 0, 1, 1, 1, 1, 1, 0,\n",
       "       0, 1, 0, 1, 0, 0, 0, 0, 1, 0, 0, 0, 0, 0, 0, 0, 0, 0, 1, 1, 0, 1,\n",
       "       1, 1, 1, 1, 1, 0, 1, 1, 1, 1, 0, 0, 0, 1, 1, 1, 0, 0, 0, 0, 1, 1,\n",
       "       0, 0, 0, 0, 1, 0, 0, 0, 1, 0, 0, 1, 1, 1, 1, 1, 1, 0, 0, 0, 1, 0,\n",
       "       0, 0, 0, 0, 1, 1, 1, 0, 0, 0, 0, 0, 1, 1, 1, 0, 0, 1, 1, 1, 1, 0,\n",
       "       1, 1, 0, 1, 0, 0, 0, 1, 0, 0, 1, 0, 0, 1, 1, 0, 0, 1, 1, 0, 1, 0,\n",
       "       1, 0, 1, 0, 1, 0, 0, 0, 1, 0, 0, 0, 0, 0, 0, 1, 1, 1, 1, 0, 0, 0,\n",
       "       1, 0, 1, 1, 0, 0, 0, 0, 0, 1, 1, 1, 0, 0, 1, 0, 0, 1, 0, 0, 1, 0,\n",
       "       0, 1, 0, 0, 0, 1, 0, 0, 1, 1, 1, 0, 1, 1, 0, 0, 0, 1, 1, 1, 1, 0,\n",
       "       0, 1, 1, 1, 0, 0, 0, 0, 1, 1, 0, 0, 1, 1, 0, 0, 1, 1, 1, 1, 1, 1,\n",
       "       1, 0, 1, 0, 1, 0, 0, 1, 0, 1, 1, 1, 1, 0, 0, 1, 1, 0, 0, 1, 0, 1,\n",
       "       0, 0, 0, 1, 0, 0, 1, 1, 1, 1, 0, 1, 1, 1, 1, 1, 1, 1, 0, 1, 0, 1,\n",
       "       1, 1, 0, 0, 1, 0, 0, 0, 1, 1, 1, 1, 0, 0, 0, 0, 1, 0, 1, 1, 1, 0,\n",
       "       1, 0, 0, 1, 0, 0, 1, 1, 1, 1, 1, 0, 1, 0, 0, 0, 1, 1, 1, 1, 1, 0,\n",
       "       0, 0, 1, 1, 1, 1, 0, 0, 0, 0, 0, 1, 1, 0, 1, 0, 1, 0, 0, 0, 0, 0,\n",
       "       0, 0, 0, 0, 1, 1, 1, 1, 1, 0, 1, 0, 1, 1, 1, 1, 0, 1, 1, 1, 1, 1,\n",
       "       1, 1, 1, 0, 1, 1, 0, 1, 0, 0, 0, 1, 0, 1, 1, 1, 0, 1, 1, 0, 1, 1,\n",
       "       0, 1, 0, 1, 1, 0, 0, 1, 1, 1, 0, 0, 0, 0, 1, 1, 0, 0, 1, 1, 1, 1,\n",
       "       1, 1, 1, 1, 1, 1, 1, 1, 1, 1, 0, 0, 1, 0, 1, 0, 1, 0, 1, 1, 1, 1,\n",
       "       1, 1, 0, 1, 0, 1, 1, 1, 0, 1, 1, 0, 0, 1, 0, 1, 1, 0, 0, 1, 1, 1,\n",
       "       1, 1, 1, 1, 1, 0, 1, 1, 1, 0, 1, 0, 0, 1, 1, 0, 0, 0, 1, 0, 0, 1,\n",
       "       0, 0, 0, 1, 0, 1, 0, 0, 0, 0, 1, 0, 1, 1, 1, 1, 0, 1, 0, 0, 0, 0,\n",
       "       0, 0, 1, 0, 1, 0, 1, 0, 1, 1, 1, 0, 1, 0, 1, 0, 0, 1, 1, 1, 0, 0,\n",
       "       0, 1, 1, 0, 1, 0, 1, 1, 0, 1, 0, 0, 1, 1, 1, 0, 0, 0, 1, 1, 0, 0,\n",
       "       0, 0, 0, 1, 1, 0, 1, 0, 0, 0, 1, 0, 0, 0, 1, 1, 1, 1, 0, 1, 1, 1,\n",
       "       0, 1, 1, 1, 1, 0, 1, 1, 0, 1, 1, 0, 0, 1, 1, 1, 0, 0, 0, 0, 0, 0,\n",
       "       1, 0, 0, 1, 0, 0, 0, 1, 0, 1, 0, 1, 1, 0, 0, 0, 0, 0, 0, 0, 0, 1,\n",
       "       0, 1, 0, 0, 0, 1, 0, 0])"
      ]
     },
     "execution_count": 2,
     "metadata": {},
     "output_type": "execute_result"
    }
   ],
   "source": [
    "y_train[:]"
   ]
  },
  {
   "cell_type": "code",
   "execution_count": 3,
   "id": "230d3048",
   "metadata": {},
   "outputs": [
    {
     "data": {
      "text/plain": [
       "'yellow_leaf'"
      ]
     },
     "execution_count": 3,
     "metadata": {},
     "output_type": "execute_result"
    }
   ],
   "source": [
    "subdirectories[1]"
   ]
  },
  {
   "cell_type": "code",
   "execution_count": 4,
   "id": "3feee659",
   "metadata": {},
   "outputs": [],
   "source": [
    "def plot_sample(X,y,index):\n",
    "    plt.figure(figsize=(15,2))\n",
    "    plt.imshow(X[index])\n",
    "    plt.xlabel(subdirectories[y[index]])"
   ]
  },
  {
   "cell_type": "code",
   "execution_count": 5,
   "id": "88cd3f52",
   "metadata": {},
   "outputs": [
    {
     "data": {
      "image/png": "[encoded data removed]",
      "text/plain": [
       "<Figure size 1500x200 with 1 Axes>"
      ]
     },
     "metadata": {},
     "output_type": "display_data"
    }
   ],
   "source": [
    "plot_sample(X_test,y_train,0)"
   ]
  },
  {
   "cell_type": "code",
   "execution_count": 6,
   "id": "22177f5f",
   "metadata": {},
   "outputs": [],
   "source": [
    "X_train=X_train/255\n",
    "X_test=X_test/255"
   ]
  },
  {
   "cell_type": "code",
   "execution_count": 7,
   "id": "42d4c256",
   "metadata": {},
   "outputs": [
    {
     "name": "stdout",
     "output_type": "stream",
     "text": [
      "Epoch 1/30\n",
      "28/28 [==============================] - 1s 24ms/step - loss: 2.5980 - accuracy: 0.1562\n",
      "Epoch 2/30\n",
      "28/28 [==============================] - 1s 24ms/step - loss: 2.0631 - accuracy: 0.2634\n",
      "Epoch 3/30\n",
      "28/28 [==============================] - 1s 24ms/step - loss: 1.8977 - accuracy: 0.3216\n",
      "Epoch 4/30\n",
      "28/28 [==============================] - 1s 23ms/step - loss: 1.8173 - accuracy: 0.3683\n",
      "Epoch 5/30\n",
      "28/28 [==============================] - 1s 23ms/step - loss: 1.6747 - accuracy: 0.4265\n",
      "Epoch 6/30\n",
      "28/28 [==============================] - 1s 23ms/step - loss: 1.5668 - accuracy: 0.4766\n",
      "Epoch 7/30\n",
      "28/28 [==============================] - 1s 23ms/step - loss: 1.4488 - accuracy: 0.5017\n",
      "Epoch 8/30\n",
      "28/28 [==============================] - 1s 24ms/step - loss: 1.3167 - accuracy: 0.5906\n",
      "Epoch 9/30\n",
      "28/28 [==============================] - 1s 24ms/step - loss: 1.2691 - accuracy: 0.5747\n",
      "Epoch 10/30\n",
      "28/28 [==============================] - 1s 23ms/step - loss: 1.2170 - accuracy: 0.6055\n",
      "Epoch 11/30\n",
      "28/28 [==============================] - 1s 23ms/step - loss: 1.2063 - accuracy: 0.6214\n",
      "Epoch 12/30\n",
      "28/28 [==============================] - 1s 23ms/step - loss: 1.0943 - accuracy: 0.6659\n",
      "Epoch 13/30\n",
      "28/28 [==============================] - 1s 23ms/step - loss: 1.0741 - accuracy: 0.6693\n",
      "Epoch 14/30\n",
      "28/28 [==============================] - 1s 23ms/step - loss: 0.9711 - accuracy: 0.6887\n",
      "Epoch 15/30\n",
      "28/28 [==============================] - 1s 23ms/step - loss: 0.9353 - accuracy: 0.7377\n",
      "Epoch 16/30\n",
      "28/28 [==============================] - 1s 24ms/step - loss: 0.7290 - accuracy: 0.7822\n",
      "Epoch 17/30\n",
      "28/28 [==============================] - 1s 24ms/step - loss: 0.8542 - accuracy: 0.7389\n",
      "Epoch 18/30\n",
      "28/28 [==============================] - 1s 23ms/step - loss: 0.6176 - accuracy: 0.8198\n",
      "Epoch 19/30\n",
      "28/28 [==============================] - 1s 23ms/step - loss: 0.8025 - accuracy: 0.7685\n",
      "Epoch 20/30\n",
      "28/28 [==============================] - 1s 24ms/step - loss: 0.5834 - accuracy: 0.8426\n",
      "Epoch 21/30\n",
      "28/28 [==============================] - 1s 23ms/step - loss: 0.5054 - accuracy: 0.8666\n",
      "Epoch 22/30\n",
      "28/28 [==============================] - 1s 24ms/step - loss: 0.5310 - accuracy: 0.8415\n",
      "Epoch 23/30\n",
      "28/28 [==============================] - 1s 23ms/step - loss: 0.3889 - accuracy: 0.9031\n",
      "Epoch 24/30\n",
      "28/28 [==============================] - 1s 24ms/step - loss: 0.4076 - accuracy: 0.8860\n",
      "Epoch 25/30\n",
      "28/28 [==============================] - 1s 23ms/step - loss: 0.3416 - accuracy: 0.9122\n",
      "Epoch 26/30\n",
      "28/28 [==============================] - 1s 23ms/step - loss: 0.3052 - accuracy: 0.9145\n",
      "Epoch 27/30\n",
      "28/28 [==============================] - 1s 24ms/step - loss: 0.3021 - accuracy: 0.9373\n",
      "Epoch 28/30\n",
      "28/28 [==============================] - 1s 24ms/step - loss: 0.5183 - accuracy: 0.8746\n",
      "Epoch 29/30\n",
      "28/28 [==============================] - 1s 24ms/step - loss: 0.2880 - accuracy: 0.9282\n",
      "Epoch 30/30\n",
      "28/28 [==============================] - 1s 24ms/step - loss: 0.1478 - accuracy: 0.9806\n"
     ]
    },
    {
     "data": {
      "text/plain": [
       "<keras.callbacks.History at 0x23f222381c0>"
      ]
     },
     "execution_count": 7,
     "metadata": {},
     "output_type": "execute_result"
    }
   ],
   "source": [
    "ann = models. Sequential ([layers. Flatten (input_shape=(128,128,3)),layers. Dense (3000, activation='relu'),layers. Dense (1000, activation='relu'),layers.Dense (10, activation='sigmoid')])\n",
    "\n",
    "ann.compile(optimizer='SGD',loss='sparse_categorical_crossentropy',metrics=['accuracy'])\n",
    "\n",
    "ann.fit(X_train,y_train,epochs=30)\n"
   ]
  },
  {
   "cell_type": "code",
   "execution_count": 8,
   "id": "fc132596",
   "metadata": {},
   "outputs": [
    {
     "name": "stdout",
     "output_type": "stream",
     "text": [
      "35/35 [==============================] - 0s 6ms/step\n"
     ]
    },
    {
     "data": {
      "text/plain": [
       "array([[1.0000000e+00, 0.0000000e+00, 1.0000000e+00, ..., 0.0000000e+00,\n",
       "        0.0000000e+00, 1.0000000e+00],\n",
       "       [1.0000000e+00, 0.0000000e+00, 0.0000000e+00, ..., 1.0000000e+00,\n",
       "        0.0000000e+00, 1.0000000e+00],\n",
       "       [1.0000000e+00, 0.0000000e+00, 0.0000000e+00, ..., 1.0000000e+00,\n",
       "        1.0000000e+00, 1.0000000e+00],\n",
       "       ...,\n",
       "       [1.0000000e+00, 0.0000000e+00, 0.0000000e+00, ..., 1.0000000e+00,\n",
       "        1.1951504e-38, 1.0000000e+00],\n",
       "       [1.0000000e+00, 0.0000000e+00, 0.0000000e+00, ..., 1.0000000e+00,\n",
       "        1.0000000e+00, 1.0000000e+00],\n",
       "       [1.0000000e+00, 0.0000000e+00, 0.0000000e+00, ..., 1.0000000e+00,\n",
       "        1.0000000e+00, 1.0000000e+00]], dtype=float32)"
      ]
     },
     "execution_count": 8,
     "metadata": {},
     "output_type": "execute_result"
    }
   ],
   "source": [
    "ann.predict(np.array(images))"
   ]
  },
  {
   "cell_type": "code",
   "execution_count": 9,
   "id": "01b03a59",
   "metadata": {},
   "outputs": [
    {
     "name": "stdout",
     "output_type": "stream",
     "text": [
      "7/7 [==============================] - 0s 6ms/step\n",
      "              precision    recall  f1-score   support\n",
      "\n",
      "           0       0.54      0.54      0.54        26\n",
      "           1       0.80      0.22      0.35        18\n",
      "           2       0.88      0.62      0.73        24\n",
      "           3       0.53      0.65      0.59        26\n",
      "           4       0.26      0.37      0.30        19\n",
      "           5       0.61      0.55      0.58        20\n",
      "           6       0.61      0.48      0.54        23\n",
      "           7       0.36      0.73      0.48        22\n",
      "           8       0.71      0.50      0.59        20\n",
      "           9       0.61      0.50      0.55        22\n",
      "\n",
      "    accuracy                           0.53       220\n",
      "   macro avg       0.59      0.52      0.52       220\n",
      "weighted avg       0.59      0.53      0.53       220\n",
      "\n"
     ]
    }
   ],
   "source": [
    "from sklearn.metrics import confusion_matrix ,classification_report\n",
    "import numpy as np\n",
    "y_pred =ann.predict(X_test)\n",
    "y_pred_classes=[np.argmax(element) for element in y_pred]\n",
    "print(classification_report(y_test,y_pred_classes))"
   ]
  },
  {
   "cell_type": "code",
   "execution_count": 13,
   "id": "c91f8f93",
   "metadata": {},
   "outputs": [],
   "source": [
    "cnn = models.Sequential([\n",
    "    layers.Conv2D(filters=32, kernel_size=(3, 3), activation='relu', input_shape=(128, 128, 3)),\n",
    "    layers.MaxPooling2D((2, 2)),\n",
    "    \n",
    "    layers.Conv2D(filters=64, kernel_size=(3, 3), activation='relu'),\n",
    "    layers.MaxPooling2D((2, 2)),\n",
    "    \n",
    "    layers.Flatten(),\n",
    "    layers.Dense(64, activation='relu'),\n",
    "    layers.Dense(2, activation='softmax')\n",
    "])"
   ]
  },
  {
   "cell_type": "code",
   "execution_count": 14,
   "id": "6a68ca93",
   "metadata": {},
   "outputs": [],
   "source": [
    "cnn.compile(optimizer='adam',loss='sparse_categorical_crossentropy',metrics=['accuracy'])"
   ]
  },
  {
   "cell_type": "code",
   "execution_count": 15,
   "id": "a8ea63ae",
   "metadata": {},
   "outputs": [
    {
     "name": "stdout",
     "output_type": "stream",
     "text": [
      "Epoch 1/10\n",
      "25/25 [==============================] - 1s 19ms/step - loss: 0.1245 - accuracy: 0.9475\n",
      "Epoch 2/10\n",
      "25/25 [==============================] - 0s 18ms/step - loss: 8.8319e-07 - accuracy: 1.0000\n",
      "Epoch 3/10\n",
      "25/25 [==============================] - 0s 17ms/step - loss: 9.0152e-08 - accuracy: 1.0000\n",
      "Epoch 4/10\n",
      "25/25 [==============================] - 0s 17ms/step - loss: 2.1011e-08 - accuracy: 1.0000\n",
      "Epoch 5/10\n",
      "25/25 [==============================] - 0s 18ms/step - loss: 1.4752e-08 - accuracy: 1.0000\n",
      "Epoch 6/10\n",
      "25/25 [==============================] - 0s 17ms/step - loss: 1.2219e-08 - accuracy: 1.0000\n",
      "Epoch 7/10\n",
      "25/25 [==============================] - 0s 18ms/step - loss: 1.0729e-08 - accuracy: 1.0000\n",
      "Epoch 8/10\n",
      "25/25 [==============================] - 0s 18ms/step - loss: 7.5996e-09 - accuracy: 1.0000\n",
      "Epoch 9/10\n",
      "25/25 [==============================] - 0s 17ms/step - loss: 5.9605e-09 - accuracy: 1.0000\n",
      "Epoch 10/10\n",
      "25/25 [==============================] - 0s 17ms/step - loss: 5.5134e-09 - accuracy: 1.0000\n"
     ]
    },
    {
     "data": {
      "text/plain": [
       "<keras.callbacks.History at 0x129888ebf10>"
      ]
     },
     "execution_count": 15,
     "metadata": {},
     "output_type": "execute_result"
    }
   ],
   "source": [
    "cnn.fit(X_train,y_train,epochs=10)"
   ]
  },
  {
   "cell_type": "code",
   "execution_count": 16,
   "id": "02f21987",
   "metadata": {},
   "outputs": [
    {
     "name": "stdout",
     "output_type": "stream",
     "text": [
      "7/7 [==============================] - 0s 34ms/step - loss: 6.5565e-09 - accuracy: 1.0000\n"
     ]
    },
    {
     "data": {
      "text/plain": [
       "[6.556510445676622e-09, 1.0]"
      ]
     },
     "execution_count": 16,
     "metadata": {},
     "output_type": "execute_result"
    }
   ],
   "source": [
    "cnn.evaluate(X_test,y_test)"
   ]
  },
  {
   "cell_type": "code",
   "execution_count": 17,
   "id": "beedd2dc",
   "metadata": {},
   "outputs": [
    {
     "name": "stdout",
     "output_type": "stream",
     "text": [
      "7/7 [==============================] - 0s 32ms/step\n"
     ]
    },
    {
     "data": {
      "text/plain": [
       "array([[2.10586837e-08, 1.00000000e+00],\n",
       "       [4.67671546e-09, 1.00000000e+00],\n",
       "       [4.71102268e-09, 1.00000000e+00],\n",
       "       [1.40103245e-08, 1.00000000e+00],\n",
       "       [1.00000000e+00, 1.84271431e-09],\n",
       "       [1.27357840e-08, 1.00000000e+00],\n",
       "       [1.50738053e-08, 1.00000000e+00],\n",
       "       [1.35056098e-07, 9.99999881e-01],\n",
       "       [5.36962830e-09, 1.00000000e+00],\n",
       "       [1.00000000e+00, 5.93500449e-09],\n",
       "       [4.68658268e-09, 1.00000000e+00],\n",
       "       [1.00000000e+00, 7.30497174e-09],\n",
       "       [1.42139198e-08, 1.00000000e+00],\n",
       "       [4.19548662e-08, 1.00000000e+00],\n",
       "       [8.10337486e-09, 1.00000000e+00],\n",
       "       [5.56853363e-09, 1.00000000e+00],\n",
       "       [1.00000000e+00, 1.45741774e-09],\n",
       "       [5.05444975e-09, 1.00000000e+00],\n",
       "       [4.80367346e-09, 1.00000000e+00],\n",
       "       [1.00000000e+00, 1.52130741e-09],\n",
       "       [1.62791896e-08, 1.00000000e+00],\n",
       "       [1.00000000e+00, 3.25775140e-09],\n",
       "       [1.00000000e+00, 1.54207580e-09],\n",
       "       [1.94449186e-08, 1.00000000e+00],\n",
       "       [1.00000000e+00, 2.30019004e-09],\n",
       "       [1.00000000e+00, 1.71258137e-08],\n",
       "       [1.00000000e+00, 1.61437885e-08],\n",
       "       [3.16733022e-08, 1.00000000e+00],\n",
       "       [5.72963810e-09, 1.00000000e+00],\n",
       "       [5.36339755e-08, 1.00000000e+00],\n",
       "       [1.00000000e+00, 1.56049236e-08],\n",
       "       [1.00000000e+00, 5.63891511e-09],\n",
       "       [1.46192871e-08, 1.00000000e+00],\n",
       "       [1.00000000e+00, 1.30909799e-08],\n",
       "       [1.00000000e+00, 1.52063728e-09],\n",
       "       [1.00000000e+00, 2.35759123e-09],\n",
       "       [1.27459652e-08, 1.00000000e+00],\n",
       "       [1.59991043e-08, 1.00000000e+00],\n",
       "       [5.86782107e-08, 1.00000000e+00],\n",
       "       [1.00000000e+00, 8.20039592e-09],\n",
       "       [1.00000000e+00, 1.44476664e-09],\n",
       "       [1.00000000e+00, 6.50118048e-09],\n",
       "       [1.00000000e+00, 1.50944341e-08],\n",
       "       [4.20813322e-08, 1.00000000e+00],\n",
       "       [1.00000000e+00, 1.50577351e-09],\n",
       "       [1.00000000e+00, 1.48626200e-09],\n",
       "       [6.78386014e-09, 1.00000000e+00],\n",
       "       [1.16369357e-07, 9.99999881e-01],\n",
       "       [1.00000000e+00, 1.83601345e-09],\n",
       "       [4.20116963e-09, 1.00000000e+00],\n",
       "       [1.66015344e-08, 1.00000000e+00],\n",
       "       [6.46021903e-08, 9.99999881e-01],\n",
       "       [1.00000000e+00, 1.56645275e-09],\n",
       "       [1.71980243e-08, 1.00000000e+00],\n",
       "       [1.00000000e+00, 1.04640883e-08],\n",
       "       [1.00000000e+00, 9.41378708e-09],\n",
       "       [1.43788634e-08, 1.00000000e+00],\n",
       "       [1.00000000e+00, 1.20809727e-08],\n",
       "       [1.00000000e+00, 2.08367656e-09],\n",
       "       [4.70772621e-09, 1.00000000e+00],\n",
       "       [1.00000000e+00, 1.48481127e-09],\n",
       "       [1.00000000e+00, 8.36427194e-09],\n",
       "       [1.83158964e-08, 1.00000000e+00],\n",
       "       [1.00000000e+00, 2.33900344e-09],\n",
       "       [1.49462629e-08, 1.00000000e+00],\n",
       "       [1.32967024e-08, 1.00000000e+00],\n",
       "       [1.41710128e-08, 1.00000000e+00],\n",
       "       [5.12424325e-09, 1.00000000e+00],\n",
       "       [1.00000000e+00, 7.81353826e-09],\n",
       "       [1.80684623e-08, 1.00000000e+00],\n",
       "       [1.00000000e+00, 6.11380901e-09],\n",
       "       [1.00000000e+00, 1.37665950e-08],\n",
       "       [1.21370192e-07, 9.99999881e-01],\n",
       "       [4.64908245e-09, 1.00000000e+00],\n",
       "       [1.00000000e+00, 1.56780067e-09],\n",
       "       [1.00000000e+00, 1.53481339e-09],\n",
       "       [1.31446480e-08, 1.00000000e+00],\n",
       "       [1.00000000e+00, 8.87039597e-09],\n",
       "       [1.62116738e-08, 1.00000000e+00],\n",
       "       [1.00000000e+00, 1.39352418e-09],\n",
       "       [9.89519293e-08, 9.99999881e-01],\n",
       "       [1.00000000e+00, 8.26245827e-09],\n",
       "       [1.00000000e+00, 1.41326761e-09],\n",
       "       [1.00000000e+00, 8.13541590e-09],\n",
       "       [1.00000000e+00, 1.50204726e-09],\n",
       "       [1.68895262e-08, 1.00000000e+00],\n",
       "       [2.75819811e-08, 1.00000000e+00],\n",
       "       [5.95343952e-09, 1.00000000e+00],\n",
       "       [4.63756944e-09, 1.00000000e+00],\n",
       "       [1.00000000e+00, 1.43051337e-09],\n",
       "       [1.00000000e+00, 1.59525348e-09],\n",
       "       [1.00000000e+00, 1.43672390e-08],\n",
       "       [2.04859703e-08, 1.00000000e+00],\n",
       "       [1.00000000e+00, 2.17633955e-09],\n",
       "       [4.74038897e-09, 1.00000000e+00],\n",
       "       [1.00000000e+00, 1.90597560e-09],\n",
       "       [4.66315031e-09, 1.00000000e+00],\n",
       "       [1.00000000e+00, 6.58888899e-09],\n",
       "       [1.00000000e+00, 8.03822786e-09],\n",
       "       [4.60787319e-09, 1.00000000e+00],\n",
       "       [6.06123418e-09, 1.00000000e+00],\n",
       "       [1.00000000e+00, 1.60625702e-09],\n",
       "       [8.01862754e-09, 1.00000000e+00],\n",
       "       [1.00000000e+00, 1.64472791e-09],\n",
       "       [1.09644965e-07, 9.99999881e-01],\n",
       "       [1.29956232e-08, 1.00000000e+00],\n",
       "       [1.65236003e-08, 1.00000000e+00],\n",
       "       [4.53221674e-08, 1.00000000e+00],\n",
       "       [1.00000000e+00, 1.57581503e-08],\n",
       "       [6.49104503e-09, 1.00000000e+00],\n",
       "       [1.90386924e-08, 1.00000000e+00],\n",
       "       [7.61623866e-08, 9.99999881e-01],\n",
       "       [3.24163736e-08, 1.00000000e+00],\n",
       "       [4.75078910e-09, 1.00000000e+00],\n",
       "       [1.00000000e+00, 6.49239462e-09],\n",
       "       [1.00000000e+00, 1.93825156e-09],\n",
       "       [1.00000000e+00, 2.50854693e-09],\n",
       "       [1.37361766e-07, 9.99999881e-01],\n",
       "       [1.80037887e-08, 1.00000000e+00],\n",
       "       [1.00000000e+00, 1.52045454e-09],\n",
       "       [5.49204016e-09, 1.00000000e+00],\n",
       "       [1.00000000e+00, 1.95598493e-09],\n",
       "       [5.83284665e-09, 1.00000000e+00],\n",
       "       [1.00000000e+00, 1.59401548e-09],\n",
       "       [1.00000000e+00, 1.82650228e-09],\n",
       "       [1.70409642e-08, 1.00000000e+00],\n",
       "       [1.58897748e-08, 1.00000000e+00],\n",
       "       [1.00000000e+00, 1.66100858e-08],\n",
       "       [5.28788258e-09, 1.00000000e+00],\n",
       "       [4.46463888e-09, 1.00000000e+00],\n",
       "       [1.56234758e-08, 1.00000000e+00],\n",
       "       [5.02838216e-09, 1.00000000e+00],\n",
       "       [1.00000000e+00, 1.54582469e-09],\n",
       "       [2.67159912e-08, 1.00000000e+00],\n",
       "       [1.85017441e-08, 1.00000000e+00],\n",
       "       [1.00000000e+00, 8.65648797e-09],\n",
       "       [1.00000000e+00, 5.99297323e-09],\n",
       "       [1.00000000e+00, 2.22468022e-09],\n",
       "       [1.00000000e+00, 1.04270699e-08],\n",
       "       [1.00000000e+00, 7.59078311e-09],\n",
       "       [1.00000000e+00, 8.34497360e-09],\n",
       "       [1.00000000e+00, 1.59291225e-09],\n",
       "       [5.18142329e-09, 1.00000000e+00],\n",
       "       [1.00000000e+00, 1.50083879e-09],\n",
       "       [5.43898926e-09, 1.00000000e+00],\n",
       "       [6.02557026e-09, 1.00000000e+00],\n",
       "       [4.79501416e-09, 1.00000000e+00],\n",
       "       [1.00000000e+00, 1.56033975e-09],\n",
       "       [4.87738516e-09, 1.00000000e+00],\n",
       "       [1.00000000e+00, 1.44465917e-09],\n",
       "       [1.30380782e-08, 1.00000000e+00],\n",
       "       [1.00000000e+00, 4.35300462e-09],\n",
       "       [3.92700024e-08, 1.00000000e+00],\n",
       "       [1.00000000e+00, 1.98001193e-09],\n",
       "       [8.06024403e-09, 1.00000000e+00],\n",
       "       [1.00000000e+00, 1.44004355e-08],\n",
       "       [1.00000000e+00, 1.39510115e-09],\n",
       "       [1.04419975e-08, 1.00000000e+00],\n",
       "       [1.00000000e+00, 8.12623568e-09],\n",
       "       [5.06562570e-09, 1.00000000e+00],\n",
       "       [1.56463802e-08, 1.00000000e+00],\n",
       "       [4.53518023e-09, 1.00000000e+00],\n",
       "       [1.31054705e-08, 1.00000000e+00],\n",
       "       [1.30767308e-08, 1.00000000e+00],\n",
       "       [5.24232080e-09, 1.00000000e+00],\n",
       "       [1.00831244e-07, 9.99999881e-01],\n",
       "       [1.00000000e+00, 1.52309598e-09],\n",
       "       [1.31326194e-08, 1.00000000e+00],\n",
       "       [1.00000000e+00, 1.50957802e-09],\n",
       "       [1.00000000e+00, 1.41684109e-09],\n",
       "       [1.00000000e+00, 1.59602043e-09],\n",
       "       [1.00000000e+00, 1.42397791e-08],\n",
       "       [1.00000000e+00, 6.15080431e-09],\n",
       "       [1.36109918e-07, 9.99999881e-01],\n",
       "       [1.00000000e+00, 1.39031782e-08],\n",
       "       [1.00000000e+00, 1.55128299e-09],\n",
       "       [1.00000000e+00, 1.63595826e-09],\n",
       "       [1.00000000e+00, 1.59653191e-09],\n",
       "       [4.53198945e-09, 1.00000000e+00],\n",
       "       [1.32659492e-08, 1.00000000e+00],\n",
       "       [1.00000000e+00, 1.36286769e-08],\n",
       "       [1.41581538e-08, 1.00000000e+00],\n",
       "       [1.00000000e+00, 1.65267444e-09],\n",
       "       [1.93660803e-08, 1.00000000e+00],\n",
       "       [4.77284123e-09, 1.00000000e+00],\n",
       "       [1.00000000e+00, 5.80527715e-09],\n",
       "       [1.00000000e+00, 1.64155944e-09],\n",
       "       [1.00000000e+00, 1.54783097e-09],\n",
       "       [8.25091462e-09, 1.00000000e+00],\n",
       "       [4.56250193e-09, 1.00000000e+00],\n",
       "       [5.29035660e-08, 1.00000000e+00],\n",
       "       [4.65659067e-09, 1.00000000e+00],\n",
       "       [1.43564467e-08, 1.00000000e+00],\n",
       "       [1.00000000e+00, 2.40743114e-09],\n",
       "       [1.00000000e+00, 2.25782681e-09],\n",
       "       [1.00000000e+00, 1.86414040e-09],\n",
       "       [1.00000000e+00, 1.44280865e-09],\n",
       "       [1.00000000e+00, 2.36936137e-09],\n",
       "       [1.15892128e-07, 9.99999881e-01],\n",
       "       [1.00000000e+00, 6.90146251e-09]], dtype=float32)"
      ]
     },
     "execution_count": 17,
     "metadata": {},
     "output_type": "execute_result"
    }
   ],
   "source": [
    "pre=cnn.predict(X_test)\n",
    "pre"
   ]
  },
  {
   "cell_type": "code",
   "execution_count": 18,
   "id": "718bcf48",
   "metadata": {},
   "outputs": [
    {
     "data": {
      "text/plain": [
       "1"
      ]
     },
     "execution_count": 18,
     "metadata": {},
     "output_type": "execute_result"
    }
   ],
   "source": [
    "np.argmax(pre[2])"
   ]
  },
  {
   "cell_type": "code",
   "execution_count": 19,
   "id": "2244ca33",
   "metadata": {},
   "outputs": [
    {
     "data": {
      "text/plain": [
       "array([1, 1, 1, 1, 0], dtype=int64)"
      ]
     },
     "execution_count": 19,
     "metadata": {},
     "output_type": "execute_result"
    }
   ],
   "source": [
    "y_classes=[np.argmax(element)for element in pre]\n",
    "np.array(y_classes[:5])"
   ]
  },
  {
   "cell_type": "code",
   "execution_count": 32,
   "id": "6d13ef75",
   "metadata": {},
   "outputs": [
    {
     "ename": "TypeError",
     "evalue": "only integer scalar arrays can be converted to a scalar index",
     "output_type": "error",
     "traceback": [
      "\u001b[1;31m---------------------------------------------------------------------------\u001b[0m",
      "\u001b[1;31mTypeError\u001b[0m                                 Traceback (most recent call last)",
      "Cell \u001b[1;32mIn[32], line 1\u001b[0m\n\u001b[1;32m----> 1\u001b[0m \u001b[43mplot_sample\u001b[49m\u001b[43m(\u001b[49m\u001b[43mX_test\u001b[49m\u001b[43m,\u001b[49m\u001b[43mpre\u001b[49m\u001b[43m,\u001b[49m\u001b[38;5;241;43m4\u001b[39;49m\u001b[43m)\u001b[49m\n",
      "Cell \u001b[1;32mIn[4], line 4\u001b[0m, in \u001b[0;36mplot_sample\u001b[1;34m(X, y, index)\u001b[0m\n\u001b[0;32m      2\u001b[0m plt\u001b[38;5;241m.\u001b[39mfigure(figsize\u001b[38;5;241m=\u001b[39m(\u001b[38;5;241m15\u001b[39m,\u001b[38;5;241m2\u001b[39m))\n\u001b[0;32m      3\u001b[0m plt\u001b[38;5;241m.\u001b[39mimshow(X[index])\n\u001b[1;32m----> 4\u001b[0m plt\u001b[38;5;241m.\u001b[39mxlabel(\u001b[43msubdirectories\u001b[49m\u001b[43m[\u001b[49m\u001b[43my\u001b[49m\u001b[43m[\u001b[49m\u001b[43mindex\u001b[49m\u001b[43m]\u001b[49m\u001b[43m]\u001b[49m)\n",
      "\u001b[1;31mTypeError\u001b[0m: only integer scalar arrays can be converted to a scalar index"
     ]
    },
    {
     "data": {
      "image/png": "[encoded data removed]",
      "text/plain": [
       "<Figure size 1500x200 with 1 Axes>"
      ]
     },
     "metadata": {},
     "output_type": "display_data"
    }
   ],
   "source": [
    "plot_sample(X_test,pre,4)"
   ]
  },
  {
   "cell_type": "code",
   "execution_count": 31,
   "id": "eceded8a",
   "metadata": {},
   "outputs": [
    {
     "data": {
      "text/plain": [
       "'green_leaf'"
      ]
     },
     "execution_count": 31,
     "metadata": {},
     "output_type": "execute_result"
    }
   ],
   "source": [
    "subdirectories[y_classes[4]]"
   ]
  },
  {
   "cell_type": "markdown",
   "id": "de752e47",
   "metadata": {},
   "source": [
    "#### print(classification_report(y_test,y_classes))"
   ]
  },
  {
   "cell_type": "code",
   "execution_count": 41,
   "id": "abcdcedd",
   "metadata": {},
   "outputs": [
    {
     "name": "stderr",
     "output_type": "stream",
     "text": [
      "WARNING:absl:Found untraced functions such as _jit_compiled_convolution_op, _jit_compiled_convolution_op while saving (showing 2 of 2). These functions will not be directly callable after loading.\n"
     ]
    },
    {
     "name": "stdout",
     "output_type": "stream",
     "text": [
      "INFO:tensorflow:Assets written to: leaf_two\\assets\n"
     ]
    },
    {
     "name": "stderr",
     "output_type": "stream",
     "text": [
      "INFO:tensorflow:Assets written to: leaf_two\\assets\n"
     ]
    }
   ],
   "source": [
    "cnn.save(\"leaf_two\")"
   ]
  },
  {
   "cell_type": "code",
   "execution_count": 42,
   "id": "dbf5591c",
   "metadata": {},
   "outputs": [],
   "source": [
    "import tensorflow as tf"
   ]
  },
  {
   "cell_type": "code",
   "execution_count": 40,
   "id": "2d1c7fdc",
   "metadata": {},
   "outputs": [],
   "source": [
    "model = tf.keras.models.load_model('leaf')"
   ]
  },
  {
   "cell_type": "code",
   "execution_count": 23,
   "id": "efebfb14",
   "metadata": {},
   "outputs": [
    {
     "name": "stdout",
     "output_type": "stream",
     "text": [
      "7/7 [==============================] - 0s 46ms/step\n"
     ]
    }
   ],
   "source": [
    "a=model.predict(np.array(X_test))"
   ]
  },
  {
   "cell_type": "code",
   "execution_count": null,
   "id": "3053cfa7",
   "metadata": {},
   "outputs": [],
   "source": [
    "y_classes=[np.argmax(element)for element in a]\n",
    "np.array(y_classes[:5])"
   ]
  },
  {
   "cell_type": "code",
   "execution_count": null,
   "id": "80737468",
   "metadata": {},
   "outputs": [],
   "source": [
    "import cv2\n",
    "cap= cv2.VideoCapture(0)\n",
    "\n",
    "while True:\n",
    "    _,img= cap.read()\n",
    "    img=cv2.resize(img,(128,128))\n",
    "    img = np.expand_dims(img, axis=0)\n",
    "    \n",
    "    c=model.predict(img)\n",
    "    print(c)\n",
    "    cv2.imshow(\"img\",img)\n",
    "    cv2.waitKey(1)\n",
    "    \n",
    "    "
   ]
  },
  {
   "cell_type": "code",
   "execution_count": null,
   "id": "b1be3527",
   "metadata": {},
   "outputs": [],
   "source": []
  }
 ],
 "metadata": {
  "kernelspec": {
   "display_name": "Python 3 (ipykernel)",
   "language": "python",
   "name": "python3"
  },
  "language_info": {
   "codemirror_mode": {
    "name": "ipython",
    "version": 3
   },
   "file_extension": ".py",
   "mimetype": "text/x-python",
   "name": "python",
   "nbconvert_exporter": "python",
   "pygments_lexer": "ipython3",
   "version": "3.8.0"
  }
 },
 "nbformat": 4,
 "nbformat_minor": 5
}
